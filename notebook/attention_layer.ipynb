{
 "cells": [
  {
   "cell_type": "code",
   "execution_count": 3,
   "id": "13bdc6b6-6438-4823-941b-b77c5431133c",
   "metadata": {},
   "outputs": [],
   "source": [
    "%matplotlib inline\n",
    "%config InlineBackend.figure_format = 'retina'\n",
    "\n",
    "# Import some additional JAX and dataloader helpers\n",
    "from jax.scipy.special import logsumexp\n",
    "from jax.example_libraries import optimizers\n",
    "\n",
    "import torch\n",
    "from torchvision import datasets, transforms\n",
    "import mediapy as mpy\n",
    "import time\n",
    "from tqdm.auto import tqdm\n",
    "\n",
    "\n",
    "import numpy as onp\n",
    "import jax.numpy as np\n",
    "from jax import grad, jit, vmap, value_and_grad\n",
    "from jax import random"
   ]
  },
  {
   "cell_type": "code",
   "execution_count": 4,
   "id": "28772d2b-907c-45d5-9c3d-59ee30fc26d2",
   "metadata": {},
   "outputs": [
    {
     "name": "stderr",
     "output_type": "stream",
     "text": [
      "WARNING:absl:No GPU/TPU found, falling back to CPU. (Set TF_CPP_MIN_LOG_LEVEL=0 and rerun for more info.)\n"
     ]
    }
   ],
   "source": [
    "# Generate key which is used to generate random numbers\n",
    "key = random.PRNGKey(1)"
   ]
  },
  {
   "cell_type": "markdown",
   "id": "2d25467a-6248-4a74-b392-105534ada093",
   "metadata": {},
   "source": [
    "# Attention layer\n",
    "\n",
    "$$\n",
    "\\text{Given } Q \\in \\mathbb{R}^{B \\times d_k}, K \\in \\mathbb{R}^{B \\times d_k}, V \\in \\mathbb{R}^{B \\times d_v} \\\\\n",
    "Attention(Q, K, V) = softmax \\left( \\frac{QK^T}{\\sqrt{d_k}} \\right) V\n",
    "$$"
   ]
  },
  {
   "cell_type": "code",
   "execution_count": 45,
   "id": "5acdc3e7-93f7-4bc9-aab1-6344e7b8931a",
   "metadata": {},
   "outputs": [],
   "source": [
    "def softmax(x, axis=-1):\n",
    "    exp_x = np.exp(x)\n",
    "    return exp_x / np.sum(exp_x, axis=axis, keepdims=True)\n",
    "\n",
    "def attention_layer(q, k, v):\n",
    "    d_k = q.shape[1]\n",
    "    d = np.dot(q, k.T)\n",
    "    attentions = softmax(d / np.sqrt(d_k))\n",
    "    return np.dot(attentions, v), attentions, d"
   ]
  },
  {
   "cell_type": "code",
   "execution_count": 46,
   "id": "fb5e72fe-3b94-4963-89f8-a72ae619f0d9",
   "metadata": {},
   "outputs": [
    {
     "data": {
      "text/plain": [
       "DeviceArray([[0.24472846, 0.66524094, 0.09003057],\n",
       "             [0.09003057, 0.24472846, 0.66524094]], dtype=float32)"
      ]
     },
     "execution_count": 46,
     "metadata": {},
     "output_type": "execute_result"
    }
   ],
   "source": [
    "softmax(np.array([[1, 2, 0], [0, 1, 2]]))"
   ]
  },
  {
   "cell_type": "code",
   "execution_count": 47,
   "id": "b7cc3141-4eff-4a8c-aa7e-5e498a378271",
   "metadata": {},
   "outputs": [
    {
     "data": {
      "text/plain": [
       "(DeviceArray([[1.5],\n",
       "              [1.5]], dtype=float32),\n",
       " DeviceArray([[0.5, 0.5],\n",
       "              [0.5, 0.5]], dtype=float32),\n",
       " DeviceArray([[1, 1],\n",
       "              [0, 0]], dtype=int32))"
      ]
     },
     "execution_count": 47,
     "metadata": {},
     "output_type": "execute_result"
    }
   ],
   "source": [
    "q = np.array([[0, 0, 1], [1, 0, 0]])\n",
    "k = np.array([[0, 0, 1], [0, 0, 1]])\n",
    "v = np.array([[1], [2]])\n",
    "attention_layer(q, k, v)"
   ]
  },
  {
   "cell_type": "code",
   "execution_count": 48,
   "id": "0e05b3ec-c111-440d-b289-7257855f7bcf",
   "metadata": {},
   "outputs": [
    {
     "data": {
      "text/plain": [
       "DeviceArray([[0, 0, 1],\n",
       "             [1, 0, 0]], dtype=int32)"
      ]
     },
     "execution_count": 48,
     "metadata": {},
     "output_type": "execute_result"
    }
   ],
   "source": [
    "q"
   ]
  },
  {
   "cell_type": "code",
   "execution_count": 23,
   "id": "5dada824-a1bc-4f49-ad0f-9b52ceb72949",
   "metadata": {},
   "outputs": [
    {
     "data": {
      "text/plain": [
       "DeviceArray([[0, 0],\n",
       "             [0, 0],\n",
       "             [1, 1]], dtype=int32)"
      ]
     },
     "execution_count": 23,
     "metadata": {},
     "output_type": "execute_result"
    }
   ],
   "source": [
    "k.T"
   ]
  },
  {
   "cell_type": "code",
   "execution_count": 13,
   "id": "65e9fef4-c7dd-4f93-a87e-82fadf91fd61",
   "metadata": {},
   "outputs": [
    {
     "data": {
      "text/plain": [
       "DeviceArray([[0.15055665, 0.02880473, 0.20766646, 0.14306472, 0.05770602],\n",
       "             [0.11433297, 0.02340085, 0.1404331 , 0.08351222, 0.03435331],\n",
       "             [0.12930429, 0.03125305, 0.18979977, 0.10114681, 0.03891528]],            dtype=float32)"
      ]
     },
     "execution_count": 13,
     "metadata": {},
     "output_type": "execute_result"
    }
   ],
   "source": [
    "d_k = 10\n",
    "d_v = 5\n",
    "n = 3\n",
    "q = random.uniform(key, (n, d_k))\n",
    "k = random.uniform(key, (n, d_k))\n",
    "v = random.uniform(key, (n, d_v))\n",
    "\n",
    "attention_layer(q, k, v)"
   ]
  },
  {
   "cell_type": "code",
   "execution_count": null,
   "id": "b9243fa0-07ca-4dd4-bb25-2383ef5da2de",
   "metadata": {},
   "outputs": [],
   "source": []
  }
 ],
 "metadata": {
  "kernelspec": {
   "display_name": "Python 3 (ipykernel)",
   "language": "python",
   "name": "python3"
  },
  "language_info": {
   "codemirror_mode": {
    "name": "ipython",
    "version": 3
   },
   "file_extension": ".py",
   "mimetype": "text/x-python",
   "name": "python",
   "nbconvert_exporter": "python",
   "pygments_lexer": "ipython3",
   "version": "3.9.7"
  }
 },
 "nbformat": 4,
 "nbformat_minor": 5
}
