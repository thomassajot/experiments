{
 "cells": [
  {
   "cell_type": "code",
   "execution_count": 1,
   "id": "fa3051c4-bd8b-4444-bca4-96b28f261267",
   "metadata": {},
   "outputs": [
    {
     "name": "stderr",
     "output_type": "stream",
     "text": [
      "/Users/thomassajot/opt/anaconda3/envs/Attention/lib/python3.9/site-packages/jax/experimental/optimizers.py:28: FutureWarning: jax.experimental.optimizers is deprecated, import jax.example_libraries.optimizers instead\n",
      "  warnings.warn('jax.experimental.optimizers is deprecated, '\n"
     ]
    }
   ],
   "source": [
    "%matplotlib inline\n",
    "%config InlineBackend.figure_format = 'retina'\n",
    "\n",
    "# Import some additional JAX and dataloader helpers\n",
    "from jax.scipy.special import logsumexp\n",
    "from jax.experimental import optimizers\n",
    "\n",
    "import torch\n",
    "from torchvision import datasets, transforms\n",
    "import mediapy as mpy\n",
    "import time\n",
    "from tqdm.auto import tqdm\n",
    "\n",
    "\n",
    "import numpy as onp\n",
    "import jax.numpy as np\n",
    "from jax import grad, jit, vmap, value_and_grad\n",
    "from jax import random\n"
   ]
  },
  {
   "cell_type": "code",
   "execution_count": null,
   "id": "b14ae683-2bb4-4577-ac13-dffda3fcf82a",
   "metadata": {},
   "outputs": [],
   "source": [
    "def plot_mnist_examples(dataloader, n=10):\n",
    "    images, labels = next(iter(dataloader))\n",
    "    images = images.squeeze()\n",
    "    images = images[:n]\n",
    "    labels = labels[:n].detach().numpy().astype(str)\n",
    "    return mpy.show_images(images.squeeze(), titles=labels, columns=10, width=700)\n",
    "\n",
    "\n",
    "def ReLU(x):\n",
    "    \"\"\" Rectified Linear Unit (ReLU) activation function \"\"\"\n",
    "    return np.maximum(0, x)\n",
    "\n",
    "def relu_layer(params, x):\n",
    "    \"\"\" Simple ReLu layer for single sample \"\"\"\n",
    "    return ReLU(np.dot(params[0], x) + params[1])"
   ]
  },
  {
   "cell_type": "code",
   "execution_count": 2,
   "id": "acbe7377-57e4-4a22-ba4f-ff9d68d47aa4",
   "metadata": {},
   "outputs": [
    {
     "name": "stderr",
     "output_type": "stream",
     "text": [
      "WARNING:absl:No GPU/TPU found, falling back to CPU. (Set TF_CPP_MIN_LOG_LEVEL=0 and rerun for more info.)\n"
     ]
    }
   ],
   "source": [
    "# Generate key which is used to generate random numbers\n",
    "key = random.PRNGKey(1)"
   ]
  },
  {
   "cell_type": "code",
   "execution_count": 114,
   "id": "749b6ea0-5e08-4d60-b46d-207e4e0096e0",
   "metadata": {},
   "outputs": [
    {
     "data": {
      "text/html": [
       "<table class=\"show_images\" style=\"border-spacing:0px;\"><tr><td style=\"padding:1px;\"><div style=\"display:flex; align-items:left;\">\n",
       "      <div style=\"display:flex; flex-direction:column; align-items:center;\">\n",
       "      <div>3</div><div><img width=\"700\" height=\"700\" style=\"image-rendering:pixelated; object-fit:cover;\" src=\"data:image/png;base64,iVBORw0KGgoAAAANSUhEUgAAABwAAAAcCAIAAAD9b0jDAAAAwElEQVR4nO2VSw7DIAxEzck8nAw4GeZk7cIqogXCJ2yqdhZZJNKzPRkD0V9fIVO/AgCAmVNK+nTO6acQAhGJiIis1XlMCMAa1Hs/w12DqmKMdWtlPe/9DjcrDwtg34GmyjZjjAeIH27cxQFo+nuyR/1Fd7m9hF3Y2tioWhcmGtMgTEHptbtExMzl7CJirZ2EDAqcTELW4cDSex7OEDf3qpfHOlsLaW2mstbaKTU8T4dTd3MKwDmnA+ototq5S35MT5mHfgdrwVIbAAAAAElFTkSuQmCC\"/></div></div></div></td><td style=\"padding:1px;\"><div style=\"display:flex; align-items:left;\">\n",
       "      <div style=\"display:flex; flex-direction:column; align-items:center;\">\n",
       "      <div>5</div><div><img width=\"700\" height=\"700\" style=\"image-rendering:pixelated; object-fit:cover;\" src=\"data:image/png;base64,iVBORw0KGgoAAAANSUhEUgAAABwAAAAcCAIAAAD9b0jDAAAB20lEQVR4nO2UoasqQRTGZ+Utu6DuIFgEBYNWg5hEk0EwGfwTBCfaVjAIBsEqaFCwaFswGAwWsRlEw7IYRJikFh1FFkQcfWHv3Xuv7r2sYrm892uz55xvvjNzdgD4z6+A+SFWLpetVquiKB/ZDJPP510ul7as1WrNZnMymZjdLZ1OH49H+pXL5XLzZblc2my2m9o/xv4Zxu12syx7Hzqfz6qqAgDsdrvFYoEQMsxtu8btQwi32y0AQJKkxWLxeTOMcb1eBwCIoigIQr/fHw6HpnqPRCKU0tVqFQqFTBWYod1uU0q73e5z5Rbzqclk0mSm8UVpxONxQoi+5Hn+dDrN5/NUKoUxNu/mjWAwSI3QRmo2m2UymYdFOY7rdDq61mg0QgghhPQ5HY/HDofjYd3vqFarl3cSicRrRAOBwHq91v16PJ7X6MZiMVVVNd1CoXD/Rz1JLpfTT1wQhJuo8ZyyLFupVDDG0+nU5/O9xgiEUDdSKpWcTud3Tjebzf0rZQzP871eT9eVZdnr9X6ODgYDLSSK4gNmOY4Lh8OtVkuWZUrp4XAghOz3e0LIbrfTFCVJ4jjuAVGdbDaLMb5/pBVFiUajzyhq+P3+YrFIKb1er5TSRqOBEDJ7lP8efwGdZkh9VDjt+AAAAABJRU5ErkJggg==\"/></div></div></div></td><td style=\"padding:1px;\"><div style=\"display:flex; align-items:left;\">\n",
       "      <div style=\"display:flex; flex-direction:column; align-items:center;\">\n",
       "      <div>2</div><div><img width=\"700\" height=\"700\" style=\"image-rendering:pixelated; object-fit:cover;\" src=\"data:image/png;base64,iVBORw0KGgoAAAANSUhEUgAAABwAAAAcCAIAAAD9b0jDAAAB+ElEQVR4nO2Tz8spYRTH58Z4p4mFhTFjZJBJVrazmb0N/4CdDSsNxYZs/Bc2iuxsiJIVWSiFElnIQkqzUn6GmTnuYkrydm/mZnEX73f1PZ1zPp3nec6DID96Tz6fL5vN1uv11WoFAPf7/Xa7lUqlfycWCgVZluFJ6/VaNcVikaIobTiXyzUcDlXi8XgUBIGmaQzDDAaDxWIBAEmSGIbRQAyFQsfjUZ1oNBpxHPecNZlMAHC9XjUQWZbdbrcqsdVqWa3WlwKPx6MZyvM8AOx2u3w+r9frX7IoilYqFQDo9/saoAaDIRqNOhyOP50DAGRZjkQiGqB/EYqi5XIZAGazGU3Tn4EmEgkA2O/3OI5/hsiy7Ol0kiRJEITPEG0222azAYBGo/EZotls7vV6ACCKotvt/gw0mUyqaxsMBj+AQ1FUEITD4SBJUiaTMZlMGpq/vr78fj/HcQRBBAIBhmEIgiBJslQqqd88lUppnqhWq8E3TSYT1SyXS807xPO8oihq//l8fvhnTafTcDiMYdi7UJIkL5eL2txsNh9efe5qtXq9XtVwPp8zDKPT6d7ixmKx57kURRFFMZ1OG41GBEFYlm23249st9u12+3fIb9eYoqi4vG40+lEEGQ8Hg8Gg06n81yA43g6nc7lcmq4WCy8Xu+7V/Gj/0u/AexFX+/h2MlKAAAAAElFTkSuQmCC\"/></div></div></div></td><td style=\"padding:1px;\"><div style=\"display:flex; align-items:left;\">\n",
       "      <div style=\"display:flex; flex-direction:column; align-items:center;\">\n",
       "      <div>9</div><div><img width=\"700\" height=\"700\" style=\"image-rendering:pixelated; object-fit:cover;\" src=\"data:image/png;base64,iVBORw0KGgoAAAANSUhEUgAAABwAAAAcCAIAAAD9b0jDAAABkklEQVR4nO3TsatBURwH8J/boTtRikHKcMuALAYmpZR/gMG/cNWxWZTBbpJBVgOrTYpSBgOK1aZYKB3dQf1O13DivcR73HeGN/iu93c/93vOrwvwySfPQwgJh8PVanW5XPJrQqGQRc7lcuVyucFggIiIyDnHa6ygDoeDUno4HG7KcDhMpVKJRIIxVqvVCCFvi61W61at3+9ns1mn0yme1ut1v9//dk2v1yvajUajdDp9V8rtdr8tClRso1AoWHkf4PHVmKYJAJRSQsh2u304s1gs1uv1q99RFKVUKh2Px+/rvts+IjLGisXiQ8H2jNY0jVIaiUS+Rm02cQIA8Pl8wWBws9lEo1HG2Kt9f854PBbFPR6PHDEej+/3e9M0O52OHFFV1clkIq44n8/LQQOBgFjUfD632+1y0GazKVBd1+WImUzmfD4jYrvdtvhr3UVV1el0yjk/nU6apkkQAaBcLiOiYRiVSkWOmEwmDcNAxF6vJ0cEgNVqxTnf7XaxWOzXYeVFtNvtAkCj0ZjNZn9q979yAadS9Ug7I5TtAAAAAElFTkSuQmCC\"/></div></div></div></td><td style=\"padding:1px;\"><div style=\"display:flex; align-items:left;\">\n",
       "      <div style=\"display:flex; flex-direction:column; align-items:center;\">\n",
       "      <div>3</div><div><img width=\"700\" height=\"700\" style=\"image-rendering:pixelated; object-fit:cover;\" src=\"data:image/png;base64,iVBORw0KGgoAAAANSUhEUgAAABwAAAAcCAIAAAD9b0jDAAAB2ElEQVR4nO2Tz6sxYRTHHzJS40dZSGrWZiELm0nxL5jVlKUk/4Dl7NiMUqgpyUoW9mSjZGGllFjJYlAWpqnJDMLQue9ienv1imvcW3dzP6unb+d8Oj3PeRD65UfAMIwkyVwut9lsBoPBx18KhYLVan3HmEwmF4sFAACApmmqqqqqejwe9YSmacNGgiAEQdD7t9ttvV7X81QqpYccx913WZ5LT6fT4XDQNK1YLJZKJVEUXxnlE6kkSZlMBsOwTqdzm7tcrlfsBojFYrvdDgBkWaYo6huMNE2rqqpfaCQS+ZLL6XSGQqFKpaIoCgBIklStVt/cJ4QQSZI8zw+HQ7ihVqu9qcNxnOd5SZLgjvV67Xa735EGAgFdMRqNut1uPB6PRqO9Xk8PvV7vo8ZnKyUIQjgcRgjNZjNFUfTwer0ihFqtlizL70x6j8/nW61W+ux2u/1RmdmQlKIogiAQQuPxeL/fvyTFcXwymTAM86g6GAzqh+l0+uogLMsCwOVyWd7QaDSWy2W/38/n8+fzGQBYlrVYPvnf/2AY5n57/mM+n3s8nleNCCGTyZRIJJ4Y2+32k/cx5m02mxzH+f1+m81m2KjjcDjK5TIAiKKYzWbT6bTZbGxJfvl+/gANBWRvLQbnvQAAAABJRU5ErkJggg==\"/></div></div></div></td><td style=\"padding:1px;\"><div style=\"display:flex; align-items:left;\">\n",
       "      <div style=\"display:flex; flex-direction:column; align-items:center;\">\n",
       "      <div>8</div><div><img width=\"700\" height=\"700\" style=\"image-rendering:pixelated; object-fit:cover;\" src=\"data:image/png;base64,iVBORw0KGgoAAAANSUhEUgAAABwAAAAcCAIAAAD9b0jDAAACKElEQVR4nO2Uv8/pYBTHW96w6CAWGmy6SFgkZZIYJIwiSFgqTBIhTAaDzcBfwGIiYhB2ESoGSU0Skkp0Y/GjmJ567tC8jXjv1ff2Tvfmfofm6el5Pj2n5/sUQf7rrxAqm5FOp3U6nbj2er1Wq/V8Po/HY4fDEQqFlLwzEokcDgfwKUEQAAD7/b7f7wMAOI4zGo3fZWEYFggEaJoWKQCA1Wo1mUzcbjdJkna7XavVkiTpdrs1Gs23iDiONxoNqbTBYBAOh81ms5JOJe12O5HY6/VyuZz0QX+qcrmczWbloRzHCYLQarV+lYDjeD6fH41GEEJBELbbLUEQzwkfX/csl0scx/f7PUEQm83m5anFYul2uy6XC0GQx+MBIRSvMpX6fL7j8QgAYFnW4/E8j8Lj8cznc8kM0+nU7/eTJGkwGOT6RxCKoi6Xiziofr9frVYtFksmk5HMsF6vw+GwPOhF8XhcMuaLT2u1ms1m+22ipFqtdj6fhU9BCNvttnKcpFQq9Vwpz/MURb3fopKF6vV6aV0qldRqdb1e9/l8ystMJBI8z4tlNptNkXu/34fDIYZhCqHPg8rlcmKQpunn26+SaV+lUqEoiqLo9XplGEYMFotFFH33z5SBMgwDIYQQFgqF8XgsBp1Op/wReqNYLHa/3wEAktWTyeTpdJrNZiaTSTm3UqmIJ7LT6XQ6HZ7nb7dbMBhUTkQQhCAIlmUlny4Wi2g0+kfEf10/AHloZkHj+NTqAAAAAElFTkSuQmCC\"/></div></div></div></td><td style=\"padding:1px;\"><div style=\"display:flex; align-items:left;\">\n",
       "      <div style=\"display:flex; flex-direction:column; align-items:center;\">\n",
       "      <div>7</div><div><img width=\"700\" height=\"700\" style=\"image-rendering:pixelated; object-fit:cover;\" src=\"data:image/png;base64,iVBORw0KGgoAAAANSUhEUgAAABwAAAAcCAIAAAD9b0jDAAAAt0lEQVR4nO2TwQ3DIAxF/6FreI+wR+Ls4T28iAdx9kDZgx4soaipGtrQG+/EAT38/QUwGAy6k1Jqv8zMqmpmpZSc862HmTlER95KHx8sKaV5nokIwDRNcQCwbdu+78uyAFjX9XqcyHWeyMxEhJkBEFHOuZSiqk0Zq8XdVZWZX9ZdjWbWZIzIZ9ERd//OeImqRjl1v3eJRbt7Z2O31ERUjX1m/KXrS6JrEelmjK57GgGISOufGfybJ61zn9H9ovCrAAAAAElFTkSuQmCC\"/></div></div></div></td><td style=\"padding:1px;\"><div style=\"display:flex; align-items:left;\">\n",
       "      <div style=\"display:flex; flex-direction:column; align-items:center;\">\n",
       "      <div>5</div><div><img width=\"700\" height=\"700\" style=\"image-rendering:pixelated; object-fit:cover;\" src=\"data:image/png;base64,iVBORw0KGgoAAAANSUhEUgAAABwAAAAcCAIAAAD9b0jDAAACIklEQVR4nO2Uz8sxURTH79XbiMjCyu+V2SgyFpKFhY1IKc2ChZI0K2WnlLKxm6UdG6VYib9AkZ38AdQwFCkUI6u5zbu4PZP8eF/z1Fvv4vmu7jnn3s89995zDwA/+h+USqWq1SpCSJKkdDr9TUo4HM7n8zzPr9drnudvt5soiqIoIoQEQaAo6mH+r3cgtVpNUVQoFIrH4y6XS6fTAQAghJIk3U/TaDTJZHI2m/0dSpIky7LRaPSZst1uOY6r1+uyZzgcfpRpNpuNRqOyuVqtZEqz2bxer+/O91YkSXIchxBCCE2nU4PBoBjxLJqmxS+FQqFvEFTPruPxKAgCHjMMQxCEUih86Z1MJn6/HwAAIazVao1GI5PJuN1uHJ3P55VKRelOoFQqyZUo3gmbm82GZVnFNxMIBPBDSZKE7nRv9no9ZVyCIAaDwX2ml8ul0+l0u11BEOTEz+dzJBJRwA0Ggxi63+/b7bbX68V+iqLwfnI0Fot9CtVqta1WCyF0/wuwjEYjwzDyOcbjsYJkAQDFYhH/+gfZbLY/QF/UKQDAbDbj5pZIJF5Gc7kchFClUkEIR6PRRwkGAgH51iwWi9FotFqtAACSJGmaLpfLcnS5XDqdzoflb1ufrH6/TxAEQRCn08lkMtntdjm02+1oml4sFh9l6vP5NpvNu+LHOhwOHo/n5fLX3xQAoNfrc7kcHhcKBYfDAb6aNO6Eo9HooTf/6B/qN/jqdNremRtoAAAAAElFTkSuQmCC\"/></div></div></div></td><td style=\"padding:1px;\"><div style=\"display:flex; align-items:left;\">\n",
       "      <div style=\"display:flex; flex-direction:column; align-items:center;\">\n",
       "      <div>6</div><div><img width=\"700\" height=\"700\" style=\"image-rendering:pixelated; object-fit:cover;\" src=\"data:image/png;base64,iVBORw0KGgoAAAANSUhEUgAAABwAAAAcCAIAAAD9b0jDAAABWUlEQVR4nO2TMauCUBTHj48nLQYRBA2BEM41FUQ4uzS09SFC3Nr0A7j3LZpq8AO0h5PgYIEgBtEgBkJyzn2DFA1hlg5v6DdczuXe87uXA3+ALwXo9/thGB6Px/l8Xo2xVqt5noeIRHS9XjVNq0CqqioiIuLhcEDEIAjq9XopY7fbTZIEEc/nsyAIy+USEUejUSnpYrHIvjmdTgFAEATDMHieLyVdr9dE5DhO8Zaf/ONOpzMcDhljq9WqMqkoiq1WCwDiOK5M+hlFpZIkFZf+vrzBcRwAyLJcpZQxdl8L8sZMZVk2TXM2mxVveQ7P867rIuLpdPJ9n4jSNNV1vZS01+tdLhe8QUTZA4PB4HPpeDymBxhjWZEfsBcz3e12+/2e3dhsNlmRH7AX0iRJLMu6byeTSVa8FbAntNvtKIoeZ7rdbhuNRikpACiKYtt2JtV1vdlsljV++Rf8AXFl1O1ObEu5AAAAAElFTkSuQmCC\"/></div></div></div></td><td style=\"padding:1px;\"><div style=\"display:flex; align-items:left;\">\n",
       "      <div style=\"display:flex; flex-direction:column; align-items:center;\">\n",
       "      <div>1</div><div><img width=\"700\" height=\"700\" style=\"image-rendering:pixelated; object-fit:cover;\" src=\"data:image/png;base64,iVBORw0KGgoAAAANSUhEUgAAABwAAAAcCAIAAAD9b0jDAAAA7UlEQVR4nO2SMQqEMBBFo2wZ0UKwTWVrbqA38BaewQt4ATsbwQt4B/EiChJS2orobCHKsuwyhs0uLPiqKWbeZPgh5OL3UErrul6WpSgKbVLG2LyTpumZEVNpge/7eqTDMOR5rrQblzqOE0WRkvSGdlBKOedbbRiGkv0tj0EJIYIgQEfw88dxbJpmqz3Ps21bj7RtW7RNTfoVGGPLDgCEYYiO4OkTQtZ1PWoAQPuVz4/j+E+kruuiXlzadV2WZeaOZVno/z8VFAAcWQkhqqr69KVPTNPU971OqZQySRLVd7yGcy6lnOe5LEs9xgtV7kmBZkCYa5voAAAAAElFTkSuQmCC\"/></div></div></div></td></tr></table>"
      ],
      "text/plain": [
       "<IPython.core.display.HTML object>"
      ]
     },
     "metadata": {},
     "output_type": "display_data"
    }
   ],
   "source": [
    "batch_size = 100\n",
    "\n",
    "train_loader = torch.utils.data.DataLoader(\n",
    "    datasets.MNIST('../data', train=True, download=True,\n",
    "                   transform=transforms.Compose([\n",
    "                       transforms.ToTensor(),\n",
    "                       transforms.Normalize((0.1307,), (0.3081,))\n",
    "                   ])),\n",
    "    batch_size=batch_size, shuffle=True)\n",
    "\n",
    "test_loader = torch.utils.data.DataLoader(\n",
    "    datasets.MNIST('../data', train=False, transform=transforms.Compose([\n",
    "                       transforms.ToTensor(),\n",
    "                       transforms.Normalize((0.1307,), (0.3081,))\n",
    "                   ])),\n",
    "    batch_size=batch_size, shuffle=True)\n",
    "\n",
    "\n",
    "plot_mnist_examples(train_loader)"
   ]
  },
  {
   "cell_type": "code",
   "execution_count": 115,
   "id": "4dac72c6-59a8-4ea1-8d20-6137e1d54c19",
   "metadata": {},
   "outputs": [],
   "source": [
    "def initialize_mlp(sizes, key):\n",
    "    \"\"\" Initialize the weights of all layers of a linear layer network \"\"\"\n",
    "    keys = random.split(key, len(sizes))\n",
    "    # Initialize a single layer with Gaussian weights -  helper function\n",
    "    def initialize_layer(m, n, key, scale=1e-2):\n",
    "        w_key, b_key = random.split(key)\n",
    "        return scale * random.normal(w_key, (n, m)), scale * random.normal(b_key, (n,))\n",
    "    return [initialize_layer(m, n, k) for m, n, k in zip(sizes[:-1], sizes[1:], keys)]\n",
    "\n",
    "layer_sizes = [784, 512, 512, 10]\n",
    "# Return a list of tuples of layer weights\n",
    "params = initialize_mlp(layer_sizes, key)"
   ]
  },
  {
   "cell_type": "code",
   "execution_count": 116,
   "id": "f270f7a3-5c99-4efb-a7fd-972e7f922bae",
   "metadata": {},
   "outputs": [],
   "source": [
    "def forward_pass(params, in_array):\n",
    "    \"\"\" Compute the forward pass for each example individually \"\"\"\n",
    "    activations = in_array\n",
    "\n",
    "    # Loop over the ReLU hidden layers\n",
    "    for w, b in params[:-1]:\n",
    "        activations = relu_layer([w, b], activations)\n",
    "\n",
    "    # Perform final trafo to logits\n",
    "    final_w, final_b = params[-1]\n",
    "    logits = np.dot(final_w, activations) + final_b\n",
    "    return logits - logsumexp(logits)\n",
    "\n",
    "# Make a batched version of the `predict` function\n",
    "batch_forward = vmap(forward_pass, in_axes=(None, 0), out_axes=0)"
   ]
  },
  {
   "cell_type": "code",
   "execution_count": 117,
   "id": "ba67482d-fa30-4c85-99ac-8671f8977160",
   "metadata": {},
   "outputs": [],
   "source": [
    "def _one_hot(x, k):\n",
    "    \"\"\"Create a one-hot encoding of x of size k \"\"\"\n",
    "    return np.eye(k)[x]\n",
    "\n",
    "one_hot = jit(_one_hot, static_argnums=1)\n",
    "\n",
    "def loss(params, in_arrays, targets):\n",
    "    \"\"\" Compute the multi-class cross-entropy loss \"\"\"\n",
    "    preds = batch_forward(params, in_arrays)\n",
    "    return -np.sum(preds * targets)\n",
    "\n",
    "def accuracy(params, data_loader):\n",
    "    \"\"\" Compute the accuracy for a provided dataloader \"\"\"\n",
    "    acc_total = 0\n",
    "    for batch_idx, (data, target) in enumerate(data_loader):\n",
    "        images = np.array(data).reshape(data.size(0), 28*28)\n",
    "        targets = one_hot(np.array(target), num_classes)\n",
    "\n",
    "        target_class = np.argmax(targets, axis=1)\n",
    "        predicted_class = np.argmax(batch_forward(params, images), axis=1)\n",
    "        acc_total += np.sum(predicted_class == target_class)\n",
    "    return acc_total / len(data_loader.dataset)"
   ]
  },
  {
   "cell_type": "code",
   "execution_count": 118,
   "id": "22f9680c-5bd0-457e-9c0f-82b5673624b8",
   "metadata": {},
   "outputs": [],
   "source": [
    "@jit\n",
    "def update(params, x, y, opt_state):\n",
    "    \"\"\" Compute the gradient for a batch and update the parameters \"\"\"\n",
    "    value, grads = value_and_grad(loss)(params, x, y)\n",
    "    opt_state = opt_update(0, grads, opt_state)\n",
    "    return get_params(opt_state), opt_state, value\n",
    "\n",
    "# Defining an optimizer in Jax\n",
    "step_size = 1e-3\n",
    "opt_init, opt_update, get_params = optimizers.adam(step_size)\n",
    "opt_state = opt_init(params)\n",
    "\n",
    "num_epochs = 5\n",
    "num_classes = 10"
   ]
  },
  {
   "cell_type": "code",
   "execution_count": 119,
   "id": "7102313d-282c-4d0b-a830-ce301cd7bbac",
   "metadata": {
    "tags": []
   },
   "outputs": [
    {
     "data": {
      "application/vnd.jupyter.widget-view+json": {
       "model_id": "97ec56ffb3a643e389090ab44722dc7c",
       "version_major": 2,
       "version_minor": 0
      },
      "text/plain": [
       "  0%|          | 0/5 [00:00<?, ?it/s]"
      ]
     },
     "metadata": {},
     "output_type": "display_data"
    },
    {
     "data": {
      "application/vnd.jupyter.widget-view+json": {
       "model_id": "af581eb9b93842a28e8cdd0a4ce4ccfb",
       "version_major": 2,
       "version_minor": 0
      },
      "text/plain": [
       "  0%|          | 0/600 [00:00<?, ?it/s]"
      ]
     },
     "metadata": {},
     "output_type": "display_data"
    },
    {
     "name": "stdout",
     "output_type": "stream",
     "text": [
      "Epoch 1 | T: 11.99 | Train A: 0.972 | Test A: 0.966\n"
     ]
    },
    {
     "data": {
      "application/vnd.jupyter.widget-view+json": {
       "model_id": "b4c36fc2ae804fd78507c7b14b863d75",
       "version_major": 2,
       "version_minor": 0
      },
      "text/plain": [
       "  0%|          | 0/600 [00:00<?, ?it/s]"
      ]
     },
     "metadata": {},
     "output_type": "display_data"
    },
    {
     "name": "stdout",
     "output_type": "stream",
     "text": [
      "Epoch 2 | T: 11.55 | Train A: 0.986 | Test A: 0.976\n"
     ]
    },
    {
     "data": {
      "application/vnd.jupyter.widget-view+json": {
       "model_id": "e92ee5dbe0834a59ac025c38e6fcdd56",
       "version_major": 2,
       "version_minor": 0
      },
      "text/plain": [
       "  0%|          | 0/600 [00:00<?, ?it/s]"
      ]
     },
     "metadata": {},
     "output_type": "display_data"
    },
    {
     "name": "stdout",
     "output_type": "stream",
     "text": [
      "Epoch 3 | T: 11.82 | Train A: 0.989 | Test A: 0.976\n"
     ]
    },
    {
     "data": {
      "application/vnd.jupyter.widget-view+json": {
       "model_id": "c359e491d7494df2b034529520598cd5",
       "version_major": 2,
       "version_minor": 0
      },
      "text/plain": [
       "  0%|          | 0/600 [00:00<?, ?it/s]"
      ]
     },
     "metadata": {},
     "output_type": "display_data"
    },
    {
     "name": "stdout",
     "output_type": "stream",
     "text": [
      "Epoch 4 | T: 11.65 | Train A: 0.992 | Test A: 0.978\n"
     ]
    },
    {
     "data": {
      "application/vnd.jupyter.widget-view+json": {
       "model_id": "4ecf00ff48c24e7ba181d706300f8868",
       "version_major": 2,
       "version_minor": 0
      },
      "text/plain": [
       "  0%|          | 0/600 [00:00<?, ?it/s]"
      ]
     },
     "metadata": {},
     "output_type": "display_data"
    },
    {
     "name": "stdout",
     "output_type": "stream",
     "text": [
      "Epoch 5 | T: 11.54 | Train A: 0.994 | Test A: 0.979\n"
     ]
    },
    {
     "ename": "NameError",
     "evalue": "name 'plot_mnist_performance' is not defined",
     "output_type": "error",
     "traceback": [
      "\u001b[0;31m---------------------------------------------------------------------------\u001b[0m",
      "\u001b[0;31mNameError\u001b[0m                                 Traceback (most recent call last)",
      "Input \u001b[0;32mIn [119]\u001b[0m, in \u001b[0;36m<cell line: 44>\u001b[0;34m()\u001b[0m\n\u001b[1;32m     36\u001b[0m     \u001b[38;5;28;01mreturn\u001b[39;00m train_loss, log_acc_train, log_acc_test\n\u001b[1;32m     39\u001b[0m train_loss, train_log, test_log \u001b[38;5;241m=\u001b[39m run_mnist_training_loop(num_epochs,\n\u001b[1;32m     40\u001b[0m                                                           opt_state,\n\u001b[1;32m     41\u001b[0m                                                           net_type\u001b[38;5;241m=\u001b[39m\u001b[38;5;124m\"\u001b[39m\u001b[38;5;124mMLP\u001b[39m\u001b[38;5;124m\"\u001b[39m)\n\u001b[0;32m---> 44\u001b[0m plot_mnist_performance(train_loss, train_log, test_log, \u001b[38;5;124m\"\u001b[39m\u001b[38;5;124mMNIST MLP Performance\u001b[39m\u001b[38;5;124m\"\u001b[39m)\n",
      "\u001b[0;31mNameError\u001b[0m: name 'plot_mnist_performance' is not defined"
     ]
    }
   ],
   "source": [
    "def run_mnist_training_loop(num_epochs, opt_state, net_type=\"MLP\"):\n",
    "    \"\"\" Implements a learning loop over epochs. \"\"\"\n",
    "    # Initialize placeholder for loggin\n",
    "    log_acc_train, log_acc_test, train_loss = [], [], []\n",
    "\n",
    "    # Get the initial set of parameters\n",
    "    params = get_params(opt_state)\n",
    "\n",
    "    # Get initial accuracy after random init\n",
    "    train_acc = accuracy(params, train_loader)\n",
    "    test_acc = accuracy(params, test_loader)\n",
    "    log_acc_train.append(train_acc)\n",
    "    log_acc_test.append(test_acc)\n",
    "\n",
    "    # Loop over the training epochs\n",
    "    for epoch in tqdm(range(num_epochs)):\n",
    "        start_time = time.time()\n",
    "        for data, target in tqdm(train_loader, total=len(train_loader)):\n",
    "            if net_type == \"MLP\":\n",
    "                # Flatten the image into 784 vectors for the MLP\n",
    "                x = np.array(data).reshape(data.size(0), 28*28)\n",
    "            elif net_type == \"CNN\":\n",
    "                # No flattening of the input required for the CNN\n",
    "                x = np.array(data)\n",
    "            y = one_hot(np.array(target), num_classes)\n",
    "            params, opt_state, loss = update(params, x, y, opt_state)\n",
    "            train_loss.append(loss)\n",
    "\n",
    "        epoch_time = time.time() - start_time\n",
    "        train_acc = accuracy(params, train_loader)\n",
    "        test_acc = accuracy(params, test_loader)\n",
    "        log_acc_train.append(train_acc)\n",
    "        log_acc_test.append(test_acc)\n",
    "        print(f\"Epoch {epoch+1} | T: {epoch_time:0.2f} | Train A: {train_acc:0.3f} | Test A: {test_acc:0.3f}\")\n",
    "\n",
    "    return train_loss, log_acc_train, log_acc_test\n",
    "\n",
    "\n",
    "train_loss, train_log, test_log = run_mnist_training_loop(num_epochs,\n",
    "                                                          opt_state,\n",
    "                                                          net_type=\"MLP\")\n"
   ]
  },
  {
   "cell_type": "code",
   "execution_count": 125,
   "id": "76dc70c9-52a2-4abd-ab56-a609f234323c",
   "metadata": {},
   "outputs": [
    {
     "data": {
      "text/plain": [
       "[DeviceArray(0.11236667, dtype=float32),\n",
       " DeviceArray(0.9722833, dtype=float32),\n",
       " DeviceArray(0.9859167, dtype=float32),\n",
       " DeviceArray(0.98943335, dtype=float32),\n",
       " DeviceArray(0.99186665, dtype=float32),\n",
       " DeviceArray(0.9945, dtype=float32)]"
      ]
     },
     "execution_count": 125,
     "metadata": {},
     "output_type": "execute_result"
    }
   ],
   "source": [
    "train_log"
   ]
  },
  {
   "cell_type": "code",
   "execution_count": 141,
   "id": "c7ae6a21-1b64-435e-8dac-63b03f6a034f",
   "metadata": {},
   "outputs": [
    {
     "data": {
      "image/png": "[encoded data removed]",
      "text/plain": [
       "<Figure size 720x216 with 2 Axes>"
      ]
     },
     "metadata": {
      "image/png": {
       "height": 193,
       "width": 598
      },
      "needs_background": "light"
     },
     "output_type": "display_data"
    }
   ],
   "source": [
    "import matplotlib.pyplot as plt\n",
    "\n",
    "_, axes = plt.subplots(1, 2, figsize=(10, 3))\n",
    "axes[0].plot(onp.array(train_loss))\n",
    "axes[1].plot(onp.array(train_log), label='training')\n",
    "axes[1].plot(onp.array(test_log), label='testing')\n",
    "axes[1].legend()\n",
    "plt.show()"
   ]
  },
  {
   "cell_type": "code",
   "execution_count": null,
   "id": "5cd3e7eb-80e7-4024-8fee-e1332b44d556",
   "metadata": {},
   "outputs": [],
   "source": []
  }
 ],
 "metadata": {
  "kernelspec": {
   "display_name": "Python 3 (ipykernel)",
   "language": "python",
   "name": "python3"
  },
  "language_info": {
   "codemirror_mode": {
    "name": "ipython",
    "version": 3
   },
   "file_extension": ".py",
   "mimetype": "text/x-python",
   "name": "python",
   "nbconvert_exporter": "python",
   "pygments_lexer": "ipython3",
   "version": "3.9.7"
  }
 },
 "nbformat": 4,
 "nbformat_minor": 5
}
